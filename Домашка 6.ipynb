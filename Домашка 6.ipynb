{
 "cells": [
  {
   "cell_type": "markdown",
   "id": "2ad12f5b",
   "metadata": {},
   "source": [
    "### Задание 1\n",
    "Даны значения величины заработной платы заемщиков банка (zp) и значения их поведенческого кредитного скоринга (ks): zp = [35, 45, 190, 200, 40, 70, 54, 150, 120, 110], ks = [401, 574, 874, 919, 459, 739, 653, 902, 746, 832]. Найдите ковариацию этих двух величин с помощью элементарных действий, а затем с помощью функции cov из numpy Полученные значения должны быть равны. Найдите коэффициент корреляции Пирсона с помощью ковариации и среднеквадратичных отклонений двух признаков, а затем с использованием функций из библиотек numpy и pandas."
   ]
  },
  {
   "cell_type": "code",
   "execution_count": 1,
   "id": "8cb27a25",
   "metadata": {},
   "outputs": [],
   "source": [
    "import numpy as np"
   ]
  },
  {
   "cell_type": "code",
   "execution_count": 2,
   "id": "aacebee9",
   "metadata": {},
   "outputs": [],
   "source": [
    "zp = np.array([35, 45, 190, 200, 40, 70, 54, 150, 120, 110])\n",
    "ks = np.array([401, 574, 874, 919, 459, 739, 653, 902, 746, 832])"
   ]
  },
  {
   "cell_type": "code",
   "execution_count": 3,
   "id": "32fe2b85",
   "metadata": {},
   "outputs": [
    {
     "data": {
      "text/plain": [
       "9157.839999999997"
      ]
     },
     "execution_count": 3,
     "metadata": {},
     "output_type": "execute_result"
    }
   ],
   "source": [
    "cov_ = (zp*ks).mean() - zp.mean()*ks.mean()\n",
    "cov_"
   ]
  },
  {
   "cell_type": "code",
   "execution_count": 4,
   "id": "ea192fd9",
   "metadata": {},
   "outputs": [
    {
     "data": {
      "text/plain": [
       "9157.84"
      ]
     },
     "execution_count": 4,
     "metadata": {},
     "output_type": "execute_result"
    }
   ],
   "source": [
    "cov_2 = np.sum((zp-zp.mean())*(ks-ks.mean())) /10\n",
    "cov_2"
   ]
  },
  {
   "cell_type": "code",
   "execution_count": 5,
   "id": "ef065a83",
   "metadata": {},
   "outputs": [
    {
     "data": {
      "text/plain": [
       "9157.84"
      ]
     },
     "execution_count": 5,
     "metadata": {},
     "output_type": "execute_result"
    }
   ],
   "source": [
    "np.cov(zp, ks, ddof=0)[0][1]"
   ]
  },
  {
   "cell_type": "code",
   "execution_count": 6,
   "id": "a890922d",
   "metadata": {},
   "outputs": [
    {
     "data": {
      "text/plain": [
       "0.8874900920739158"
      ]
     },
     "execution_count": 6,
     "metadata": {},
     "output_type": "execute_result"
    }
   ],
   "source": [
    "r = cov_/(zp.std()*ks.std())\n",
    "r"
   ]
  },
  {
   "cell_type": "code",
   "execution_count": 7,
   "id": "9eb67314",
   "metadata": {},
   "outputs": [],
   "source": [
    "import pandas as pd"
   ]
  },
  {
   "cell_type": "code",
   "execution_count": 8,
   "id": "ae21d658",
   "metadata": {},
   "outputs": [],
   "source": [
    "df = pd.DataFrame({'zp' : zp, 'ks' : ks})"
   ]
  },
  {
   "cell_type": "code",
   "execution_count": 9,
   "id": "186eb086",
   "metadata": {},
   "outputs": [
    {
     "data": {
      "text/plain": [
       "0.8874900920739168"
      ]
     },
     "execution_count": 9,
     "metadata": {},
     "output_type": "execute_result"
    }
   ],
   "source": [
    "df.corr().loc['zp', 'ks']"
   ]
  },
  {
   "cell_type": "markdown",
   "id": "3829b2c6",
   "metadata": {},
   "source": [
    "### Задание 2\n",
    "Измерены значения IQ выборки студентов, обучающихся в местных технических вузах: 131, 125, 115, 122, 131, 115, 107, 99, 125, 111. Известно, что в генеральной совокупности IQ распределен нормально. Найдите доверительный интервал для математического ожидания с надежностью 0.95."
   ]
  },
  {
   "cell_type": "code",
   "execution_count": 10,
   "id": "d7068697",
   "metadata": {},
   "outputs": [],
   "source": [
    "iq = np.array([131, 125, 115, 122, 131, 115, 107, 99, 125, 111])"
   ]
  },
  {
   "cell_type": "code",
   "execution_count": 11,
   "id": "d03a3f5a",
   "metadata": {},
   "outputs": [],
   "source": [
    "std = iq.std(ddof=1)"
   ]
  },
  {
   "cell_type": "code",
   "execution_count": 12,
   "id": "01f171ca",
   "metadata": {},
   "outputs": [],
   "source": [
    "# из таблицы распределения Стьюдента:\n",
    "t_kr = 2.262"
   ]
  },
  {
   "cell_type": "code",
   "execution_count": 13,
   "id": "484748ee",
   "metadata": {},
   "outputs": [],
   "source": [
    "di = t_kr * iq.std(ddof=1) / 10**0.5"
   ]
  },
  {
   "cell_type": "code",
   "execution_count": 14,
   "id": "23f85486",
   "metadata": {},
   "outputs": [
    {
     "name": "stdout",
     "output_type": "stream",
     "text": [
      "Доверительный интревал: (110.56\t125.64)\n"
     ]
    }
   ],
   "source": [
    "print(f'Доверительный интревал: ({iq.mean()-di:.2f}\\t{iq.mean()+di:.2f})')"
   ]
  },
  {
   "cell_type": "markdown",
   "id": "1ec671fa",
   "metadata": {},
   "source": [
    "### Задание 3\n",
    "Известно, что рост футболистов в сборной распределен нормально с дисперсией генеральной совокупности, равной 25 кв.см. Объем выборки равен 27, среднее выборочное составляет 174.2. Найдите доверительный интервал для математического ожидания с надежностью 0.95."
   ]
  },
  {
   "cell_type": "code",
   "execution_count": 15,
   "id": "de095506",
   "metadata": {},
   "outputs": [],
   "source": [
    "std = 25**0.5"
   ]
  },
  {
   "cell_type": "code",
   "execution_count": 16,
   "id": "a6545703",
   "metadata": {},
   "outputs": [],
   "source": [
    "n = 27\n",
    "s = 174.2"
   ]
  },
  {
   "cell_type": "code",
   "execution_count": 17,
   "id": "fb3eb2ae",
   "metadata": {},
   "outputs": [],
   "source": [
    "# из таблицы значений функции Лапласа\n",
    "t = 1.96"
   ]
  },
  {
   "cell_type": "code",
   "execution_count": 18,
   "id": "535d3230",
   "metadata": {},
   "outputs": [
    {
     "data": {
      "text/plain": [
       "1.8860108793527777"
      ]
     },
     "execution_count": 18,
     "metadata": {},
     "output_type": "execute_result"
    }
   ],
   "source": [
    "di = t * std / 27**0.5\n",
    "di"
   ]
  },
  {
   "cell_type": "code",
   "execution_count": 19,
   "id": "64fa66fd",
   "metadata": {},
   "outputs": [
    {
     "name": "stdout",
     "output_type": "stream",
     "text": [
      "Доверительный интревал: (172.31\t176.09)\n"
     ]
    }
   ],
   "source": [
    "print(f'Доверительный интревал: ({s-di:.2f}\\t{s+di:.2f})')"
   ]
  },
  {
   "cell_type": "code",
   "execution_count": null,
   "id": "d7913900",
   "metadata": {},
   "outputs": [],
   "source": []
  }
 ],
 "metadata": {
  "kernelspec": {
   "display_name": "Python 3 (ipykernel)",
   "language": "python",
   "name": "python3"
  },
  "language_info": {
   "codemirror_mode": {
    "name": "ipython",
    "version": 3
   },
   "file_extension": ".py",
   "mimetype": "text/x-python",
   "name": "python",
   "nbconvert_exporter": "python",
   "pygments_lexer": "ipython3",
   "version": "3.10.4"
  }
 },
 "nbformat": 4,
 "nbformat_minor": 5
}
